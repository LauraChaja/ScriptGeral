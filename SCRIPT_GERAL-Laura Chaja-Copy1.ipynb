{
 "cells": [
  {
   "cell_type": "code",
   "execution_count": null,
   "id": "ca885a50",
   "metadata": {},
   "outputs": [],
   "source": [
    "#Importação das bibliotecas"
   ]
  },
  {
   "cell_type": "code",
   "execution_count": null,
   "id": "0b18f533",
   "metadata": {},
   "outputs": [],
   "source": [
    "#Importação das bases\n",
    "#base = pd.read_excel('caminho da base.xlsx')"
   ]
  },
  {
   "cell_type": "code",
   "execution_count": null,
   "id": "63f761bc",
   "metadata": {},
   "outputs": [],
   "source": [
    "#Visualização da base\n",
    "#base.head(2)"
   ]
  },
  {
   "cell_type": "code",
   "execution_count": null,
   "id": "5a4a1c65",
   "metadata": {},
   "outputs": [],
   "source": [
    "#Redução (ver as colunas relevantes) \n",
    "#base.columns\n",
    "#Verificação de valores vazios\n",
    "#sns.heatmap(base.isnull(),yticklabels=False,cbar=False,cmap='viridis')"
   ]
  },
  {
   "cell_type": "code",
   "execution_count": null,
   "id": "ba224565",
   "metadata": {},
   "outputs": [],
   "source": [
    "#Dados descritivos\n",
    "#base.describe()"
   ]
  },
  {
   "cell_type": "code",
   "execution_count": null,
   "id": "ceafb306",
   "metadata": {},
   "outputs": [],
   "source": [
    "#Retirada dos vazios da base licitação\n",
    "#base = base.dropna()"
   ]
  },
  {
   "cell_type": "code",
   "execution_count": null,
   "id": "dfe84f5e",
   "metadata": {},
   "outputs": [],
   "source": [
    "#Gráficos descritivos\n",
    "#sns.countplot(x='MES',data=Base)"
   ]
  },
  {
   "cell_type": "code",
   "execution_count": null,
   "id": "7994edf8",
   "metadata": {},
   "outputs": [],
   "source": [
    "#Gráficos de Correlação\n",
    "#sns.heatmap(dayMonth,cmap='viridis')"
   ]
  },
  {
   "cell_type": "code",
   "execution_count": null,
   "id": "4d80ba49",
   "metadata": {},
   "outputs": [],
   "source": [
    "#Modelagem"
   ]
  }
 ],
 "metadata": {
  "kernelspec": {
   "display_name": "Python 3",
   "language": "python",
   "name": "python3"
  },
  "language_info": {
   "codemirror_mode": {
    "name": "ipython",
    "version": 3
   },
   "file_extension": ".py",
   "mimetype": "text/x-python",
   "name": "python",
   "nbconvert_exporter": "python",
   "pygments_lexer": "ipython3",
   "version": "3.8.8"
  }
 },
 "nbformat": 4,
 "nbformat_minor": 5
}
